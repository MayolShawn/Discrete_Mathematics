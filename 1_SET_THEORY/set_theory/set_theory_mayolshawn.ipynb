{
 "cells": [
  {
   "cell_type": "code",
   "execution_count": 1,
   "metadata": {},
   "outputs": [],
   "source": [
    "from matplotlib_venn import venn2, venn2_circles, venn2_unweighted\n",
    "from matplotlib_venn import venn3, venn3_circles\n",
    "from matplotlib import pyplot as plt\n",
    "import pandas as pd\n",
    "%matplotlib inline"
   ]
  },
  {
   "cell_type": "code",
   "execution_count": 2,
   "metadata": {},
   "outputs": [],
   "source": [
    "def drawVenn2(A,B,labels = ('A', 'B')):\n",
    "    '''\n",
    "    listing elements in Venn diagram of two sets\n",
    "    '''\n",
    "    v2=venn2([A,B],set_labels = labels);\n",
    "    v2.get_label_by_id('01').set_text(', '.join(map(str,B-A)))\n",
    "    v2.get_label_by_id('10').set_text(', '.join(map(str,A-B)))\n",
    "    if A&B:\n",
    "        v2.get_label_by_id('11').set_text(', '.join(map(str,A&B)))"
   ]
  },
  {
   "cell_type": "code",
   "execution_count": 3,
   "metadata": {},
   "outputs": [],
   "source": [
    "def drawVenn3(A,B,C,labels = ('A', 'B', 'C')):\n",
    "    '''\n",
    "    listing elements in Venn diagram of three sets, A, B, C\n",
    "    '''\n",
    "    v3=venn3([A,B,C],set_labels = labels);\n",
    "    if A-B-C:\n",
    "        v3.get_label_by_id('100').set_text('\\n'.join(map(str,A-B-C)))\n",
    "        v3.get_patch_by_id('100').set_alpha(0.6)\n",
    "        v3.get_patch_by_id('100').set_facecolor('Yellow')\n",
    "    if A&B-C:\n",
    "        v3.get_label_by_id('110').set_text('\\n'.join(map(str,A&B-C)))\n",
    "        v3.get_patch_by_id('110').set_alpha(0.3)\n",
    "        v3.get_patch_by_id('110').set_facecolor('Red')\n",
    "    if B-C-A:\n",
    "        v3.get_label_by_id('010').set_text('\\n'.join(map(str,B-C-A)))\n",
    "        v3.get_patch_by_id('010').set_alpha(0.6)\n",
    "        v3.get_patch_by_id('010').set_facecolor('Magenta')\n",
    "    if A&C-B:\n",
    "        v3.get_label_by_id('101').set_text('\\n'.join(map(str,A&C-B)))\n",
    "        v3.get_patch_by_id('101').set_alpha(0.3)\n",
    "        v3.get_patch_by_id('101').set_facecolor('Green')\n",
    "    if A&B&C:\n",
    "        v3.get_label_by_id('111').set_text('\\n'.join(map(str,A&B&C)))\n",
    "        v3.get_patch_by_id('111').set_alpha(0.1)\n",
    "        v3.get_patch_by_id('111').set_facecolor('Black')\n",
    "    if B&C-A:\n",
    "        v3.get_label_by_id('011').set_text('\\n'.join(map(str,B&C-A)))\n",
    "        v3.get_patch_by_id('011').set_alpha(0.3)\n",
    "        v3.get_patch_by_id('011').set_facecolor('Blue')\n",
    "    if C-B-A:\n",
    "        v3.get_label_by_id('001').set_text('\\n'.join(map(str,C-B-A)))\n",
    "        v3.get_patch_by_id('001').set_alpha(0.6)\n",
    "        v3.get_patch_by_id('001').set_facecolor('Cyan')"
   ]
  },
  {
   "cell_type": "markdown",
   "metadata": {},
   "source": [
    "# 1. PROVING IDENTITIES\n",
    "--- \n",
    "#### Given: A and B are sets, $\\exists$ x such that (x $\\in$ A $\\land$ x $\\in$ B)"
   ]
  },
  {
   "cell_type": "markdown",
   "metadata": {},
   "source": [
    "##### 1.  $A \\setminus B = A \\cap B^c$\n",
    "**Direct Proof by Double Inclusion**\n",
    "- Assume x $\\in$ A \\ B\n",
    "- \\(x $\\in$ A $\\setminus$ B $\\Rightarrow$ x $\\in$ A\\) and \\(x $\\notin$ B\\)\n",
    "- \\(x $\\in A \\cap B^c$\\)\n",
    "  \n",
    "- \\(y $\\in A \\cap B^c \\Rightarrow y \\in$ A\\) and \\(y $\\notin$ B\\)\n",
    "- \\(y $\\in A \\setminus$ B\\)\n",
    "- Thus, A\\B $\\subseteq$ A $\\cap$ $B^C$ or A\\B = A $\\cap$ $B^C$"
   ]
  },
  {
   "cell_type": "markdown",
   "metadata": {},
   "source": [
    "#### 2.  B = (B $\\cap$ A) $\\cup$ (B $\\cap$ $A^{c}$)\n",
    "**Proof by Direct Inclusion**\n",
    "- $x \\in B$\n",
    "- $x \\in B \\cap A$ or $x \\in B \\cap A^c$\n",
    "- $y \\in (B \\cap A) \\cup (B \\cap A^c)$\n",
    "- $y \\in B$ and $y \\in A$ or $y \\in B$ and $y \\in A^c$\n",
    "- Thus, $B = (B \\cap A) \\cup (B \\cap A^c)$\n"
   ]
  },
  {
   "cell_type": "markdown",
   "metadata": {},
   "source": [
    "#### 3.  B\\A = B $\\cap$ $A^{c}$\n",
    "**Direct Proof**\n",
    "- Let $x$ be an element in both $A$ and $B$ ($x \\in A \\land x \\in B$)\n",
    "- $x \\in B$ and $x \\notin A$\n",
    "- $x \\in B$ and $x \\in A^c$\n",
    "- $x \\in B \\cap A^c$, which means $x \\in B \\setminus A$\n",
    "- $x \\in B \\setminus A$, then $x \\in B$ and $x \\notin A$\n",
    "- $x \\in B \\cap A^c$\n",
    "- Thus, $B \\setminus A = B \\cap A^c$\n"
   ]
  },
  {
   "cell_type": "markdown",
   "metadata": {},
   "source": [
    "#### 4.  A $\\cup$ B = A $\\cup$ (B $\\cap$ $A^{c}$)\n",
    "**Direct Proof**\n",
    "- Let $x$ be an element in both $A$ and $B$\n",
    "- This means $x \\in A \\cap B$\n",
    "- By the distributive law: $A \\cup (B \\cap A^c) = (A \\cup B) \\cap (A \\cup A^c)$\n",
    "- But $A \\cup A^c = U$\n",
    "- Thus, $A \\cup (B \\cap A^c) = (A \\cup B) \\cap U$\n",
    "- So, $A \\cup (B \\cap A^c) = A \\cup B$\n"
   ]
  },
  {
   "cell_type": "markdown",
   "metadata": {},
   "source": [
    "#### 5.  $(\\textbf{U}_{i=1}^{\\infty} A_{i}^{c})^{c}$ = $\\cap_{i=1}^{\\infty}A_{i}$\n",
    "**Direct Proof and Reverse Inclusion**\n",
    "- Let $x$ be an element such that $x \\in A_i$ for some $i$\n",
    "- By De Morgan's law, $x \\notin (\\bigcup_{i=1}^{\\infty} A_{i}^{c})$\n",
    "- Therefore, $x$ belongs to the intersection of $A_i$ for that $i$\n",
    "- Since this holds for any such $x$, we have $\\cap_{i=1}^{\\infty}A_{i} \\subseteq (\\bigcup_{i=1}^{\\infty} A_{i}^{c})^{c}$\n",
    "\n",
    "Now, for the reverse inclusion:\n",
    "\n",
    "- Assume $y \\in (\\bigcup_{i=1}^{\\infty} A_{i}^{c})^{c}$\n",
    "- By De Morgan's law, $y \\notin \\bigcup_{i=1}^{\\infty} A_{i}^{c}$\n",
    "- This means $y \\notin A_i^{c}$ for any $i$\n",
    "- Therefore, $y$ belongs to each $A_i$\n",
    "- Hence, $(\\bigcup_{i=1}^{\\infty} A_{i}^{c})^{c} \\subseteq \\cap_{i=1}^{\\infty}A_{i}$\n",
    "\n",
    "- Conclusion, combining both inclusions, $(\\bigcup_{i=1}^{\\infty} A_{i}^{c})^{c} = \\cap_{i=1}^{\\infty}A_{i}$\n"
   ]
  },
  {
   "cell_type": "markdown",
   "metadata": {},
   "source": [
    "#### 6.  |A $\\cup$ B| = |A| + |B| - |A $\\cap$ B|\n",
    "**Direct Proof using the Inclusion-Exclusion Principle**\n",
    "- Let $A$ and $B$ be sets\n",
    "- Assume $\\exists x$ such that $x \\in A$ and $x \\in B$\n",
    "\n",
    "Using the Inclusion-Exclusion Principle:\n",
    "- |A $\\cup B| = |A| + |B| - |A \\cap$ B|\n"
   ]
  },
  {
   "cell_type": "markdown",
   "metadata": {},
   "source": [
    "# 2. Sets and  Subsets\n",
    "---"
   ]
  },
  {
   "cell_type": "markdown",
   "metadata": {},
   "source": [
    "#### If A = {2,3,4,5}, and B = {$x \\in \\mathbb{N} | x \\ is \\ even$}. Is A $\\subset$ B?\n",
    "\n",
    "Consider each element of $A$:\n",
    "- 2 is even, so $2 \\in B$\n",
    "- 3 is not even, so $\\notin$ $B$\n",
    "- 4 is even, so $4 \\in B$\n",
    "- 5 is not even, so $\\notin$ $B$"
   ]
  },
  {
   "cell_type": "code",
   "execution_count": 5,
   "metadata": {},
   "outputs": [
    {
     "name": "stdout",
     "output_type": "stream",
     "text": [
      "A is not a proper subset of B.\n"
     ]
    },
    {
     "data": {
      "image/png": "[encoded data removed]",
      "text/plain": [
       "<Figure size 640x480 with 1 Axes>"
      ]
     },
     "metadata": {},
     "output_type": "display_data"
    }
   ],
   "source": [
    "A = {2,3,4,5}\n",
    "B = {2,4,6,8} \n",
    "\n",
    "if A.issubset(B) and A != B:\n",
    "    print(\"A is a proper subset of B.\")\n",
    "else:\n",
    "    print(\"A is not a proper subset of B.\")\n",
    "\n",
    "drawVenn2(A, B,labels=('A', 'B'))"
   ]
  },
  {
   "cell_type": "markdown",
   "metadata": {},
   "source": [
    "**Conclusion: Since not every element in $A$ is also in $B$, $A$ is $\\not\\subset$ of $B$**"
   ]
  },
  {
   "cell_type": "markdown",
   "metadata": {},
   "source": [
    "## Let sets:\n",
    "$\\textbf{A} = \\{x|x \\in \\mathbb{Z}, 0 \\leq x \\leq 9\\}$ \\\n",
    "$\\textbf{B}$ = {2,4,6,8\\} \\\n",
    "$\\textbf{C}$ = {1,3,5,7,9\\} \\\n",
    "$\\textbf{D}$ = {3,4,5\\} \n",
    "\n",
    "Find a set $\\textbf{X}$ which will satisfy the following conditions: \\\n",
    "    1. $\\textbf{X} \\ and \\ \\textbf{B}$ are disjoint. \\\n",
    "    2. $\\textbf{X} \\subseteq \\textbf{D}$ but $\\textbf{X} \\nsubseteq \\textbf{B}$. \\\n",
    "    3. $\\textbf{X} \\subseteq \\textbf{A}$ but $\\textbf{X} \\not\\subset \\textbf{C}$.\n",
    "\n"
   ]
  },
  {
   "cell_type": "markdown",
   "metadata": {},
   "source": [
    "1. $\\mathbf{X}$ and $\\mathbf{B}$ are disjoint: \\\n",
    "Define $\\mathbf{X}$ as the set of numbers between 0 and 9, excluding those in $\\mathbf{B}$. \\\n",
    "$(\\textbf{X} = \\{x | x \\in \\mathbb{Z}, 0 \\leq x \\leq 9\\} \\setminus$ {2, 4, 6, 8}). \\\n",
    "**Thus, $\\mathbf{X}$ = {0, 1, 3, 5 , 7, 9}**\n",
    "\n",
    "- $\\mathbf{X} \\subseteq \\mathbf{D}$ but $\\mathbf{X} \\nsubseteq \\mathbf{B}$: \\\n",
    "$\\mathbf{D} = {3, 4, 5}$.\n",
    "So, $\\mathbf{X}$ = ${3,4,5}$. But $\\textbf{X} \\nsubseteq \\textbf{B}$. $\\textbf{B}$ = ${2,4,6,8}$. \\\n",
    "$\\textbf{X}$ = {3,4,5} \\ {2, 4, 6, 8}. \\\n",
    "**Thus, $\\mathbf{X}$ = {3, 5}**\n",
    "\n",
    "- $\\mathbf{X} \\subseteq \\mathbf{A}$ but $\\mathbf{X} \\not\\subset \\mathbf{C}$: \\\n",
    "$\\mathbf{A}$ = {0, 1, 2, 3, 4, 5, 6, 7, 8, 9}. \\\n",
    "$\\mathbf{C}$ = {1, 3, 5, 7, 9}. \\\n",
    "$\\textbf{X}$ = {0, 1, 2, 3, 4, 5, 6, 7, 8, 9} \\ {1, 3, 5, 7, 9}. \\\n",
    "**Thus, $\\mathbf{X}$ = {0, 2, 4, 6, 8}**\n",
    "\n",
    "**A set $\\textbf{X}$ which will satisfy all the conditions is not possible.**"
   ]
  },
  {
   "cell_type": "markdown",
   "metadata": {},
   "source": [
    "# 3. Set Operations\n",
    "---"
   ]
  },
  {
   "cell_type": "markdown",
   "metadata": {},
   "source": [
    "1. First solve the problems manually, use Latex programming to show your manual solutions.\n",
    "2. Second, solve the problem using python. Show your codes for the pythonic solutions.\n",
    "Hint: You know your solutions is right if your manual solution is equivalent to your pythonic solution.\n",
    "\n",
    "#### Given:\n",
    "- $\\textbf{U}$ = {1,2,3,4,5\\},\n",
    "$\\textbf{A}$ = {1,2,3,4,5\\},\n",
    "$\\textbf{B}$ = {4,5,6,7\\},\n",
    "$\\textbf{C}$ = {5,6,7,8,9\\},\n",
    "$\\textbf{D}$ = {1,3,5,7,9\\},\n",
    "$\\textbf{E}$ = {2,4,6,8\\}, \n",
    "$\\textbf{F}$ = {1,5,9\\}\n",
    "\n",
    "- $\\textbf{C} \\oplus \\textbf{D}$\n",
    "- $\\textbf{A} \\backslash \\textbf{B}$\n",
    "- $\\textbf{B} \\backslash \\textbf{A}$\n",
    "- $\\textbf{E} \\oplus \\textbf{F}$\n",
    "\n",
    "\n",
    "#### Manual Solution:\n",
    "$\\mathbf{C} \\oplus \\mathbf{D}$ \\\n",
    "$= (\\{5,6,7,8,9\\} \\cup \\{1,3,5,7,9\\}) \\setminus (\\{5,6,7,8,9\\} \\cap \\{1,3,5,7,9\\})$ \\\n",
    "$= \\{1,3,5,6,7,8,9\\} \\setminus \\{5,7,9\\}$ \\\n",
    "$= \\{1,3,5,6,7,8,9\\} \\setminus \\{5,7,9\\}$ \\\n",
    "$= \\{1,3,6,8\\}$\n",
    "\n",
    "$A \\backslash B $ \\\n",
    "$= A - B$ \\\n",
    "$= \\{1,2,3,4,5\\} - \\{4,5,6,7\\}$ \\\n",
    "$ = \\{1,2,3\\}$\n",
    "\n",
    "$B \\backslash A $\\\n",
    "$= B - A$ \\\n",
    "$= \\{4,5,6,7\\} - \\{1,2,3,4,5\\}$ \\\n",
    "$ = \\{6,7\\}$\n",
    "\n",
    "$E \\oplus F $\\\n",
    "$= (E \\cup F) \\setminus (E \\cap F)$ \\\n",
    "$= (\\{2,4,6,8\\} \\cup \\{1,5,9\\}) \\setminus (\\{2,4,6,8\\} \\cap \\{1,5,9\\})$ \\\n",
    "$= \\{1,2,4,5,6,8,9\\} \\setminus \\{\\}$ \\\n",
    "$= \\{1,2,4,5,6,8,9\\}$\n",
    "\n",
    "#### Pythonic Solution:"
   ]
  },
  {
   "cell_type": "code",
   "execution_count": 7,
   "metadata": {},
   "outputs": [
    {
     "name": "stdout",
     "output_type": "stream",
     "text": [
      "C ⊕ D = {1, 3, 6, 8}\n",
      "A \\ B = {1, 2, 3}\n",
      "B \\ A = {6, 7}\n",
      "E ⊕ F = {1, 2, 4, 5, 6, 8, 9}\n"
     ]
    }
   ],
   "source": [
    "U = {1,2,3,4,5}\n",
    "A = {1,2,3,4,5}\n",
    "B = {4,5,6,7}\n",
    "C = {5,6,7,8,9}\n",
    "D = {1,3,5,7,9}\n",
    "E = {2,4,6,8}\n",
    "F = {1,5,9}\n",
    "\n",
    "CD = C.symmetric_difference(D)\n",
    "print(\"C ⊕ D =\", CD)\n",
    "\n",
    "AB = A.difference(B)\n",
    "print(\"A \\\\ B =\", AB)\n",
    "\n",
    "BA = B.difference(A)\n",
    "print(\"B \\\\ A =\", BA)\n",
    "\n",
    "EF = E.symmetric_difference(F)\n",
    "print(\"E ⊕ F =\", EF)"
   ]
  },
  {
   "cell_type": "markdown",
   "metadata": {},
   "source": [
    "# 4. Finite Sets and The Counting Principles\n",
    "---"
   ]
  },
  {
   "cell_type": "markdown",
   "metadata": {},
   "source": [
    "#### In a Survey of 120 People, it was found that:\n",
    "\n",
    "- 65 read Newsweek Magazine\n",
    "- 45 read Times Magazine\n",
    "- 42 read Fortune Magazine\n",
    "- 20 read Both Newsweek and Time\n",
    "- 25 read both Newsweek and Fortune\n",
    "- 15 read both Time and Fortune\n",
    "- 8 read all three magazines\n",
    "\n",
    "#### With these information do the following:\n",
    "\n",
    "1. Draw the venn diagram using python.\n",
    "2. Find the number of people who read at **\"least one\"** of the three magazines.\n",
    "3. Find the number of people who read exactly one magazine.\n"
   ]
  },
  {
   "cell_type": "code",
   "execution_count": 8,
   "metadata": {},
   "outputs": [
    {
     "data": {
      "image/png": "[encoded data removed]",
      "text/plain": [
       "<Figure size 640x480 with 1 Axes>"
      ]
     },
     "metadata": {},
     "output_type": "display_data"
    }
   ],
   "source": [
    "News = 28\n",
    "Times = 18\n",
    "Fortune = 10\n",
    "NewsFortune = 17 \n",
    "NewsTimes = 12\n",
    "TimesFortune = 7 \n",
    "NewsTimesFortune = 8\n",
    "\n",
    "venn3(subsets=(News, Times, NewsTimes, Fortune, NewsFortune, TimesFortune, NewsTimesFortune), set_labels=('Newsweek Magazine', 'Times Magazine', 'Fortune Magazine'))\n",
    "\n",
    "plt.show()"
   ]
  },
  {
   "cell_type": "code",
   "execution_count": 9,
   "metadata": {},
   "outputs": [
    {
     "name": "stdout",
     "output_type": "stream",
     "text": [
      "Number of people who read at least one of the 3 magazines: 100\n",
      "Total number of people who read at exactly one magazine: 56\n"
     ]
    }
   ],
   "source": [
    "news = 65 - (20 + 25 - 8)\n",
    "times = 45 - (20 + 15 - 8)\n",
    "fortune = 42 - (25 + 15 - 8)\n",
    "newstimes = 20 - 8\n",
    "newsfortune = 25 - 8\n",
    "timesfortune = 15 - 8\n",
    "newstimesfortune = 8\n",
    "\n",
    "# Number of people who read at least one of the three magazines\n",
    "X = 65 + 45 + 42 - 25 - 20 - 15 + 8\n",
    "\n",
    "# The total number of people who have read exactly one magazine\n",
    "fortune_readers = 42 - 25 - 15 + 8\n",
    "newsweek_readers = 65 - 25 - 20 + 8\n",
    "times_readers = 45 - 15 -20 + 8\n",
    "Y = fortune_readers + newsweek_readers + times_readers\n",
    "\n",
    "print(\"Number of people who read at least one of the 3 magazines:\", X)\n",
    "print(\"Total number of people who read at exactly one magazine:\", Y)"
   ]
  },
  {
   "cell_type": "markdown",
   "metadata": {},
   "source": [
    "#### In a survey of 25 new cars being sold at a local auto dealer was conducted to see which of the three popular options: **air-conditioning, denoted as A**; **radio, denoted as R**; and **power windows, denoted as W** were installed. \n",
    "\n",
    "The survey found that: \n",
    "- 15 had A. \n",
    "- 12 had R. \n",
    "- 11 had W. \n",
    "- 5 had A and W. \n",
    "- 9 had A and R. \n",
    "- 4 had R and W. \n",
    "- Only 3 have the three options. \n",
    "\n",
    "With these information do the following:\n",
    "\n",
    "1. Draw the venn diagram using python.\n",
    "2. Find the number of cars with W only.\n",
    "3. Find the number of cars with A only.\n",
    "4. Find the number of cars with R only.\n",
    "5. Find the number of cars with both R and W but not A.\n",
    "6. Find the number of cars with both A and R but not W.\n",
    "7. Find the number of cars with only one of the options.\n",
    "8. Find the number of cars with at least one option.\n",
    "9. Find the number of cars with none of the Options."
   ]
  },
  {
   "cell_type": "code",
   "execution_count": 10,
   "metadata": {},
   "outputs": [
    {
     "data": {
      "image/png": "[encoded data removed]",
      "text/plain": [
       "<Figure size 640x480 with 1 Axes>"
      ]
     },
     "metadata": {},
     "output_type": "display_data"
    }
   ],
   "source": [
    "A = 15\n",
    "R = 12\n",
    "W = 11\n",
    "AW = 5\n",
    "AR = 9\n",
    "RW = 4\n",
    "ARW = 3\n",
    "\n",
    "venn = venn3(subsets=(A - AR - AW + ARW, R - AR - RW + ARW, AR - ARW, W - AW - RW + ARW, AW - ARW, RW - ARW, ARW),\n",
    "             \n",
    "set_labels=('Air-Conditioning', 'Radio', 'Power Windows'))"
   ]
  },
  {
   "cell_type": "code",
   "execution_count": 11,
   "metadata": {},
   "outputs": [
    {
     "name": "stdout",
     "output_type": "stream",
     "text": [
      "Number of cars with W only: 5\n",
      "Number of cars with A only: 4\n",
      "Number of cars with R only: 2\n",
      "Number of cars with both R and W but not A: 1\n",
      "Number of cars with both A and R but not W: 6\n",
      "Number of cars with only one of the options: 11\n",
      "Number of cars with at least one option: 23\n",
      "Number of cars with none of the options: 2\n"
     ]
    }
   ],
   "source": [
    "T = 25\n",
    "A = 15\n",
    "R = 12\n",
    "W = 11\n",
    "AW = 5\n",
    "AR = 9\n",
    "RW = 4\n",
    "ARW = 3\n",
    "\n",
    "Wonly = W - AW - RW + ARW\n",
    "Aonly = A - AW - AR + ARW\n",
    "Ronly = R - AR - RW + ARW\n",
    "R_and_W_not_A = RW - ARW\n",
    "A_and_R_not_W = AR - ARW\n",
    "one_option_only = Aonly + Ronly + Wonly\n",
    "at_least_one_option = 15 + 11 + 12 - 5 - 9 - 4 + 3\n",
    "none_of_the_options = T - (15 + 11 + 12 - 5 - 9 - 4 + 3)\n",
    "\n",
    "print(f\"Number of cars with W only: {Wonly}\")\n",
    "print(f\"Number of cars with A only: {Aonly}\")\n",
    "print(f\"Number of cars with R only: {Ronly}\")\n",
    "print(f\"Number of cars with both R and W but not A: {R_and_W_not_A}\")\n",
    "print(f\"Number of cars with both A and R but not W: {A_and_R_not_W}\")\n",
    "print(f\"Number of cars with only one of the options: {one_option_only}\")\n",
    "print(f\"Number of cars with at least one option: {at_least_one_option}\")\n",
    "print(f\"Number of cars with none of the options: {none_of_the_options}\")"
   ]
  }
 ],
 "metadata": {
  "kernelspec": {
   "display_name": "Python 3",
   "language": "python",
   "name": "python3"
  },
  "language_info": {
   "codemirror_mode": {
    "name": "ipython",
    "version": 3
   },
   "file_extension": ".py",
   "mimetype": "text/x-python",
   "name": "python",
   "nbconvert_exporter": "python",
   "pygments_lexer": "ipython3",
   "version": "3.11.5"
  },
  "orig_nbformat": 4
 },
 "nbformat": 4,
 "nbformat_minor": 2
}
